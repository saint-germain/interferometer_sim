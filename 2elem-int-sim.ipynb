{
 "cells": [
  {
   "cell_type": "code",
   "execution_count": 1,
   "metadata": {
    "collapsed": true
   },
   "outputs": [],
   "source": [
    "import numpy as np\n",
    "import matplotlib.pyplot as plt\n",
    "%matplotlib inline\n",
    "from astropy import units as u"
   ]
  },
  {
   "cell_type": "code",
   "execution_count": 2,
   "metadata": {
    "collapsed": true
   },
   "outputs": [],
   "source": [
    "import matplotlib as mpl\n",
    "mpl.rcParams['figure.dpi']= 150"
   ]
  },
  {
   "cell_type": "code",
   "execution_count": 3,
   "metadata": {
    "collapsed": true
   },
   "outputs": [],
   "source": [
    "from ipywidgets import interact, fixed\n",
    "import ipywidgets as widgets"
   ]
  },
  {
   "cell_type": "code",
   "execution_count": 4,
   "metadata": {
    "collapsed": true
   },
   "outputs": [],
   "source": [
    "c=3e8*u.m/u.s\n",
    "lam=6e-2*u.m"
   ]
  },
  {
   "cell_type": "code",
   "execution_count": 5,
   "metadata": {
    "collapsed": true
   },
   "outputs": [],
   "source": [
    "th_0=(15*u.deg).to(u.rad)"
   ]
  },
  {
   "cell_type": "code",
   "execution_count": 6,
   "metadata": {
    "collapsed": true
   },
   "outputs": [],
   "source": [
    "b=30*u.m"
   ]
  },
  {
   "cell_type": "code",
   "execution_count": 7,
   "metadata": {},
   "outputs": [
    {
     "data": {
      "text/latex": [
       "$0.002 \\; \\mathrm{rad}$"
      ],
      "text/plain": [
       "<Quantity 0.002 rad>"
      ]
     },
     "execution_count": 7,
     "metadata": {},
     "output_type": "execute_result"
    }
   ],
   "source": [
    "res_int=(lam/b)*u.rad\n",
    "res_int"
   ]
  },
  {
   "cell_type": "code",
   "execution_count": 8,
   "metadata": {},
   "outputs": [
    {
     "data": {
      "text/latex": [
       "$0.012 \\; \\mathrm{rad}$"
      ],
      "text/plain": [
       "<Quantity 0.012 rad>"
      ]
     },
     "execution_count": 8,
     "metadata": {},
     "output_type": "execute_result"
    }
   ],
   "source": [
    "fov=lam/(5*u.m)*u.rad\n",
    "fov"
   ]
  },
  {
   "cell_type": "code",
   "execution_count": 33,
   "metadata": {},
   "outputs": [],
   "source": [
    "omega=2*np.pi*u.rad/(24*u.h)"
   ]
  },
  {
   "cell_type": "code",
   "execution_count": 37,
   "metadata": {},
   "outputs": [
    {
     "data": {
      "text/latex": [
       "$165.01184 \\; \\mathrm{s}$"
      ],
      "text/plain": [
       "<Quantity 165.011845 s>"
      ]
     },
     "execution_count": 37,
     "metadata": {},
     "output_type": "execute_result"
    }
   ],
   "source": [
    "(fov/omega).to(u.s)"
   ]
  },
  {
   "cell_type": "code",
   "execution_count": 9,
   "metadata": {},
   "outputs": [
    {
     "data": {
      "text/plain": [
       "6"
      ]
     },
     "execution_count": 9,
     "metadata": {},
     "output_type": "execute_result"
    }
   ],
   "source": [
    "n_fringes=int(fov/res_int)\n",
    "n_fringes"
   ]
  },
  {
   "cell_type": "code",
   "execution_count": 10,
   "metadata": {
    "collapsed": true
   },
   "outputs": [],
   "source": [
    "theta=np.linspace(th_0-fov/2,th_0+fov/2,100*n_fringes)"
   ]
  },
  {
   "cell_type": "code",
   "execution_count": 11,
   "metadata": {},
   "outputs": [
    {
     "data": {
      "text/latex": [
       "$[0.25579939,~0.25581942,~0.25583945,~\\dots,~0.26775932,~0.26777935,~0.26779939] \\; \\mathrm{rad}$"
      ],
      "text/plain": [
       "<Quantity [0.25579939,0.25581942,0.25583945,0.25585949,0.25587952,\n",
       "           0.25589955,0.25591959,0.25593962,0.25595965,0.25597969,\n",
       "           0.25599972,0.25601976,0.25603979,0.25605982,0.25607986,\n",
       "           0.25609989,0.25611992,0.25613996,0.25615999,0.25618002,\n",
       "           0.25620006,0.25622009,0.25624012,0.25626016,0.25628019,\n",
       "           0.25630022,0.25632026,0.25634029,0.25636032,0.25638036,\n",
       "           0.25640039,0.25642042,0.25644046,0.25646049,0.25648052,\n",
       "           0.25650056,0.25652059,0.25654062,0.25656066,0.25658069,\n",
       "           0.25660072,0.25662076,0.25664079,0.25666082,0.25668086,\n",
       "           0.25670089,0.25672092,0.25674096,0.25676099,0.25678102,\n",
       "           0.25680106,0.25682109,0.25684112,0.25686116,0.25688119,\n",
       "           0.25690122,0.25692126,0.25694129,0.25696132,0.25698136,\n",
       "           0.25700139,0.25702142,0.25704146,0.25706149,0.25708152,\n",
       "           0.25710156,0.25712159,0.25714162,0.25716166,0.25718169,\n",
       "           0.25720173,0.25722176,0.25724179,0.25726183,0.25728186,\n",
       "           0.25730189,0.25732193,0.25734196,0.25736199,0.25738203,\n",
       "           0.25740206,0.25742209,0.25744213,0.25746216,0.25748219,\n",
       "           0.25750223,0.25752226,0.25754229,0.25756233,0.25758236,\n",
       "           0.25760239,0.25762243,0.25764246,0.25766249,0.25768253,\n",
       "           0.25770256,0.25772259,0.25774263,0.25776266,0.25778269,\n",
       "           0.25780273,0.25782276,0.25784279,0.25786283,0.25788286,\n",
       "           0.25790289,0.25792293,0.25794296,0.25796299,0.25798303,\n",
       "           0.25800306,0.25802309,0.25804313,0.25806316,0.25808319,\n",
       "           0.25810323,0.25812326,0.25814329,0.25816333,0.25818336,\n",
       "           0.25820339,0.25822343,0.25824346,0.25826349,0.25828353,\n",
       "           0.25830356,0.25832359,0.25834363,0.25836366,0.25838369,\n",
       "           0.25840373,0.25842376,0.2584438 ,0.25846383,0.25848386,\n",
       "           0.2585039 ,0.25852393,0.25854396,0.258564  ,0.25858403,\n",
       "           0.25860406,0.2586241 ,0.25864413,0.25866416,0.2586842 ,\n",
       "           0.25870423,0.25872426,0.2587443 ,0.25876433,0.25878436,\n",
       "           0.2588044 ,0.25882443,0.25884446,0.2588645 ,0.25888453,\n",
       "           0.25890456,0.2589246 ,0.25894463,0.25896466,0.2589847 ,\n",
       "           0.25900473,0.25902476,0.2590448 ,0.25906483,0.25908486,\n",
       "           0.2591049 ,0.25912493,0.25914496,0.259165  ,0.25918503,\n",
       "           0.25920506,0.2592251 ,0.25924513,0.25926516,0.2592852 ,\n",
       "           0.25930523,0.25932526,0.2593453 ,0.25936533,0.25938536,\n",
       "           0.2594054 ,0.25942543,0.25944546,0.2594655 ,0.25948553,\n",
       "           0.25950556,0.2595256 ,0.25954563,0.25956566,0.2595857 ,\n",
       "           0.25960573,0.25962577,0.2596458 ,0.25966583,0.25968587,\n",
       "           0.2597059 ,0.25972593,0.25974597,0.259766  ,0.25978603,\n",
       "           0.25980607,0.2598261 ,0.25984613,0.25986617,0.2598862 ,\n",
       "           0.25990623,0.25992627,0.2599463 ,0.25996633,0.25998637,\n",
       "           0.2600064 ,0.26002643,0.26004647,0.2600665 ,0.26008653,\n",
       "           0.26010657,0.2601266 ,0.26014663,0.26016667,0.2601867 ,\n",
       "           0.26020673,0.26022677,0.2602468 ,0.26026683,0.26028687,\n",
       "           0.2603069 ,0.26032693,0.26034697,0.260367  ,0.26038703,\n",
       "           0.26040707,0.2604271 ,0.26044713,0.26046717,0.2604872 ,\n",
       "           0.26050723,0.26052727,0.2605473 ,0.26056733,0.26058737,\n",
       "           0.2606074 ,0.26062743,0.26064747,0.2606675 ,0.26068753,\n",
       "           0.26070757,0.2607276 ,0.26074763,0.26076767,0.2607877 ,\n",
       "           0.26080774,0.26082777,0.2608478 ,0.26086784,0.26088787,\n",
       "           0.2609079 ,0.26092794,0.26094797,0.260968  ,0.26098804,\n",
       "           0.26100807,0.2610281 ,0.26104814,0.26106817,0.2610882 ,\n",
       "           0.26110824,0.26112827,0.2611483 ,0.26116834,0.26118837,\n",
       "           0.2612084 ,0.26122844,0.26124847,0.2612685 ,0.26128854,\n",
       "           0.26130857,0.2613286 ,0.26134864,0.26136867,0.2613887 ,\n",
       "           0.26140874,0.26142877,0.2614488 ,0.26146884,0.26148887,\n",
       "           0.2615089 ,0.26152894,0.26154897,0.261569  ,0.26158904,\n",
       "           0.26160907,0.2616291 ,0.26164914,0.26166917,0.2616892 ,\n",
       "           0.26170924,0.26172927,0.2617493 ,0.26176934,0.26178937,\n",
       "           0.2618094 ,0.26182944,0.26184947,0.2618695 ,0.26188954,\n",
       "           0.26190957,0.2619296 ,0.26194964,0.26196967,0.2619897 ,\n",
       "           0.26200974,0.26202977,0.26204981,0.26206984,0.26208987,\n",
       "           0.26210991,0.26212994,0.26214997,0.26217001,0.26219004,\n",
       "           0.26221007,0.26223011,0.26225014,0.26227017,0.26229021,\n",
       "           0.26231024,0.26233027,0.26235031,0.26237034,0.26239037,\n",
       "           0.26241041,0.26243044,0.26245047,0.26247051,0.26249054,\n",
       "           0.26251057,0.26253061,0.26255064,0.26257067,0.26259071,\n",
       "           0.26261074,0.26263077,0.26265081,0.26267084,0.26269087,\n",
       "           0.26271091,0.26273094,0.26275097,0.26277101,0.26279104,\n",
       "           0.26281107,0.26283111,0.26285114,0.26287117,0.26289121,\n",
       "           0.26291124,0.26293127,0.26295131,0.26297134,0.26299137,\n",
       "           0.26301141,0.26303144,0.26305147,0.26307151,0.26309154,\n",
       "           0.26311157,0.26313161,0.26315164,0.26317167,0.26319171,\n",
       "           0.26321174,0.26323178,0.26325181,0.26327184,0.26329188,\n",
       "           0.26331191,0.26333194,0.26335198,0.26337201,0.26339204,\n",
       "           0.26341208,0.26343211,0.26345214,0.26347218,0.26349221,\n",
       "           0.26351224,0.26353228,0.26355231,0.26357234,0.26359238,\n",
       "           0.26361241,0.26363244,0.26365248,0.26367251,0.26369254,\n",
       "           0.26371258,0.26373261,0.26375264,0.26377268,0.26379271,\n",
       "           0.26381274,0.26383278,0.26385281,0.26387284,0.26389288,\n",
       "           0.26391291,0.26393294,0.26395298,0.26397301,0.26399304,\n",
       "           0.26401308,0.26403311,0.26405314,0.26407318,0.26409321,\n",
       "           0.26411324,0.26413328,0.26415331,0.26417334,0.26419338,\n",
       "           0.26421341,0.26423344,0.26425348,0.26427351,0.26429354,\n",
       "           0.26431358,0.26433361,0.26435364,0.26437368,0.26439371,\n",
       "           0.26441375,0.26443378,0.26445381,0.26447385,0.26449388,\n",
       "           0.26451391,0.26453395,0.26455398,0.26457401,0.26459405,\n",
       "           0.26461408,0.26463411,0.26465415,0.26467418,0.26469421,\n",
       "           0.26471425,0.26473428,0.26475431,0.26477435,0.26479438,\n",
       "           0.26481441,0.26483445,0.26485448,0.26487451,0.26489455,\n",
       "           0.26491458,0.26493461,0.26495465,0.26497468,0.26499471,\n",
       "           0.26501475,0.26503478,0.26505481,0.26507485,0.26509488,\n",
       "           0.26511491,0.26513495,0.26515498,0.26517501,0.26519505,\n",
       "           0.26521508,0.26523511,0.26525515,0.26527518,0.26529521,\n",
       "           0.26531525,0.26533528,0.26535531,0.26537535,0.26539538,\n",
       "           0.26541541,0.26543545,0.26545548,0.26547551,0.26549555,\n",
       "           0.26551558,0.26553561,0.26555565,0.26557568,0.26559572,\n",
       "           0.26561575,0.26563578,0.26565582,0.26567585,0.26569588,\n",
       "           0.26571592,0.26573595,0.26575598,0.26577602,0.26579605,\n",
       "           0.26581608,0.26583612,0.26585615,0.26587618,0.26589622,\n",
       "           0.26591625,0.26593628,0.26595632,0.26597635,0.26599638,\n",
       "           0.26601642,0.26603645,0.26605648,0.26607652,0.26609655,\n",
       "           0.26611658,0.26613662,0.26615665,0.26617668,0.26619672,\n",
       "           0.26621675,0.26623678,0.26625682,0.26627685,0.26629688,\n",
       "           0.26631692,0.26633695,0.26635698,0.26637702,0.26639705,\n",
       "           0.26641708,0.26643712,0.26645715,0.26647718,0.26649722,\n",
       "           0.26651725,0.26653728,0.26655732,0.26657735,0.26659738,\n",
       "           0.26661742,0.26663745,0.26665748,0.26667752,0.26669755,\n",
       "           0.26671758,0.26673762,0.26675765,0.26677768,0.26679772,\n",
       "           0.26681775,0.26683779,0.26685782,0.26687785,0.26689789,\n",
       "           0.26691792,0.26693795,0.26695799,0.26697802,0.26699805,\n",
       "           0.26701809,0.26703812,0.26705815,0.26707819,0.26709822,\n",
       "           0.26711825,0.26713829,0.26715832,0.26717835,0.26719839,\n",
       "           0.26721842,0.26723845,0.26725849,0.26727852,0.26729855,\n",
       "           0.26731859,0.26733862,0.26735865,0.26737869,0.26739872,\n",
       "           0.26741875,0.26743879,0.26745882,0.26747885,0.26749889,\n",
       "           0.26751892,0.26753895,0.26755899,0.26757902,0.26759905,\n",
       "           0.26761909,0.26763912,0.26765915,0.26767919,0.26769922,\n",
       "           0.26771925,0.26773929,0.26775932,0.26777935,0.26779939] rad>"
      ]
     },
     "execution_count": 11,
     "metadata": {},
     "output_type": "execute_result"
    }
   ],
   "source": [
    "theta"
   ]
  },
  {
   "cell_type": "code",
   "execution_count": 12,
   "metadata": {},
   "outputs": [],
   "source": [
    "#sqap=np.zeros(len(theta))\n",
    "#sqap[len(theta)//4:3*len(theta)//4]=1"
   ]
  },
  {
   "cell_type": "code",
   "execution_count": 13,
   "metadata": {},
   "outputs": [],
   "source": [
    "#plt.plot(theta,sqap)"
   ]
  },
  {
   "cell_type": "code",
   "execution_count": 14,
   "metadata": {
    "collapsed": true
   },
   "outputs": [],
   "source": [
    "#apfft=np.fft.fft(sqap)"
   ]
  },
  {
   "cell_type": "code",
   "execution_count": 15,
   "metadata": {
    "collapsed": true
   },
   "outputs": [],
   "source": [
    "r_c=np.cos(2*np.pi*u.rad*(b/lam)*np.sin(theta))"
   ]
  },
  {
   "cell_type": "code",
   "execution_count": 16,
   "metadata": {
    "collapsed": true
   },
   "outputs": [],
   "source": [
    "def sq_source(time,theta,width):\n",
    "    aaa=np.zeros(len(theta))\n",
    "    if time < width: \n",
    "        aaa[0:time]=1\n",
    "    if time >=width:\n",
    "        aaa[time-width:time]=1\n",
    "    myfft=(np.fft.fft(aaa))\n",
    "#    flux=(np.abs(np.fft.ifft(myfft*apfft)).sum())*(theta[1]-theta[0]).value\n",
    "    return aaa,myfft#,flux"
   ]
  },
  {
   "cell_type": "code",
   "execution_count": 17,
   "metadata": {},
   "outputs": [],
   "source": [
    "#aaa,myfft,flux=sq_source(120,theta,width)"
   ]
  },
  {
   "cell_type": "code",
   "execution_count": 18,
   "metadata": {},
   "outputs": [],
   "source": [
    "#plt.figure(figsize=(3,2))\n",
    "#aaa,myfft,flux=sq_source(190,theta,width)\n",
    "#plt.plot(np.abs(np.fft.ifft(myfft*apfft))[::-1])\n",
    "#plt.plot(100*aaa)\n",
    "#plt.plot(100*sqap)"
   ]
  },
  {
   "cell_type": "code",
   "execution_count": 25,
   "metadata": {},
   "outputs": [],
   "source": [
    "width=140"
   ]
  },
  {
   "cell_type": "code",
   "execution_count": 40,
   "metadata": {},
   "outputs": [],
   "source": [
    "spfreq=np.fft.fftfreq(len(theta), d=theta[1]-theta[0])\n",
    "response=[]\n",
    "timef=800\n",
    "tscale=((fov/omega)*timef/len(theta)).to(u.s)\n",
    "\n",
    "for time in range(timef):\n",
    "    aaa,myfft=sq_source(time,theta,width)\n",
    "    intfft=(np.fft.fft(0.5*(width/len(theta))**2*r_c))\n",
    "    res=np.abs(np.fft.ifft(intfft*myfft))[100*n_fringes//2]\n",
    "    response+=[res]"
   ]
  },
  {
   "cell_type": "code",
   "execution_count": 41,
   "metadata": {},
   "outputs": [
    {
     "data": {
      "text/latex": [
       "$220.01579 \\; \\mathrm{s}$"
      ],
      "text/plain": [
       "<Quantity 220.01579333 s>"
      ]
     },
     "execution_count": 41,
     "metadata": {},
     "output_type": "execute_result"
    }
   ],
   "source": [
    "tscale"
   ]
  },
  {
   "cell_type": "code",
   "execution_count": 56,
   "metadata": {},
   "outputs": [],
   "source": [
    "time=40\n",
    "def plot_r(time,theta,r_c,width,timef):\n",
    "\n",
    "    aaa,myfft=sq_source(time,theta,width)\n",
    "    intfft=(np.fft.fft(0.5*(width/len(theta))**2*r_c))\n",
    "    timear=np.arange(timef)\n",
    "    image=np.abs(np.fft.ifft(intfft*myfft))\n",
    "    fig, ax = plt.subplots(2, 3,figsize=(15,5))\n",
    "    ax[0,0].plot(theta,aaa)\n",
    "#    ax[0,0].plot(theta,sqap,c='r')\n",
    "    ax[0,0].set_xlabel(r'$\\theta$ (rad)')\n",
    "    ax[0,0].set_ylabel(r'$I_\\nu$ (arb. units)')\n",
    "    ax[0,0].set_title('Source in FOV')\n",
    "\n",
    "    ax[0,1].plot(theta,0.5*(width/len(theta))**2*r_c)\n",
    "    ax[0,1].set_xlabel(r'$\\theta$ (rad)')\n",
    "    ax[0,1].set_ylabel(r'$R_C$')\n",
    "    ax[0,1].set_title('Interferometer sky response')\n",
    "\n",
    "    ax[0,2].plot(spfreq,np.abs(myfft))\n",
    "    ax[0,2].axvline(b/lam,c='r')\n",
    "    ax[0,2].set_xlim(0,10*b/lam)\n",
    "    ax[0,2].set_title('FT of source profile')\n",
    "    ax[0,2].set_xlabel(r'Spatial frequencies (rad$^{-1}$)')\n",
    "\n",
    "    ax[1,0].plot(spfreq,np.abs(intfft))\n",
    "    ax[1,0].axvline(b/lam,c='r')\n",
    "    ax[1,0].set_xlim(0,10*b/lam)\n",
    "    ax[1,0].set_title('FT of interferometer sky response (u-coverage)')\n",
    "    ax[1,0].set_xlabel(r'Spatial frequencies (rad$^{-1}$)')\n",
    "\n",
    "    ax[1,1].plot(theta,image)\n",
    "    ax[1,1].axvline(theta[100*n_fringes//2].value,c='g')\n",
    "    ax[1,1].set_title('Interferometer response (snapshot)')\n",
    "    ax[1,1].set_xlabel(r'$\\theta$ (rad)')\n",
    "\n",
    "\n",
    "    ax[1,2].plot((timear-timef+time)*(tscale.value)/timef,response[::-1],c='g')\n",
    "    ax[1,2].set_xlim(0,tscale.value)\n",
    "#    ax[1,2].set_xticks(np.arange(0, tscale.value, step=10))\n",
    "    ax[1,2].set_xlabel('$t$ (s)')\n",
    "    ax[1,2].set_title('Interferometer response (recorded at FOV center)')\n",
    "    \n",
    "#    ax[2,0].plot()\n",
    "\n",
    "    plt.tight_layout()\n",
    "    plt.show()\n",
    "#    print(flux)\n",
    "#add single-element response\n",
    "#add visibility"
   ]
  },
  {
   "cell_type": "code",
   "execution_count": 57,
   "metadata": {
    "scrolled": false
   },
   "outputs": [
    {
     "data": {
      "application/vnd.jupyter.widget-view+json": {
       "model_id": "b9fb591f5193497da924042a66a84fb1",
       "version_major": 2,
       "version_minor": 0
      },
      "text/plain": [
       "interactive(children=(IntSlider(value=0, description='time', max=800, step=10), Output()), _dom_classes=('widg…"
      ]
     },
     "metadata": {},
     "output_type": "display_data"
    }
   ],
   "source": [
    "slider=widgets.IntSlider(min=0, max=timef, step=10, value=0)\n",
    "interact(plot_r,time=slider,theta=fixed(theta),r_c=fixed(r_c),width=fixed(width),timef=fixed(timef));\n"
   ]
  },
  {
   "cell_type": "code",
   "execution_count": null,
   "metadata": {
    "collapsed": true
   },
   "outputs": [],
   "source": []
  },
  {
   "cell_type": "code",
   "execution_count": 135,
   "metadata": {},
   "outputs": [
    {
     "data": {
      "text/plain": [
       "0.2618094044936402"
      ]
     },
     "execution_count": 135,
     "metadata": {},
     "output_type": "execute_result"
    }
   ],
   "source": [
    "theta[100*n_fringes//2].value"
   ]
  },
  {
   "cell_type": "code",
   "execution_count": 80,
   "metadata": {},
   "outputs": [],
   "source": [
    "response=[]\n",
    "for time in range(800):\n",
    "    aaa=np.zeros(len(theta))\n",
    "    if time < 140: \n",
    "        aaa[0:time]=1\n",
    "    if time >=140:\n",
    "        aaa[time-140:time]=1\n",
    "    myfft=(np.fft.fft(aaa))\n",
    "    res=np.abs(np.fft.ifft(intfft*myfft))[100*n_fringes//2]\n",
    "    response+=[res]"
   ]
  },
  {
   "cell_type": "code",
   "execution_count": 85,
   "metadata": {},
   "outputs": [
    {
     "data": {
      "text/plain": [
       "[<matplotlib.lines.Line2D at 0x11df98588>]"
      ]
     },
     "execution_count": 85,
     "metadata": {},
     "output_type": "execute_result"
    },
    {
     "data": {
      "image/png": "[encoded data removed]",
      "text/plain": [
       "<Figure size 432x288 with 1 Axes>"
      ]
     },
     "metadata": {},
     "output_type": "display_data"
    }
   ],
   "source": [
    "plt.plot(timear-800,response[::-1])"
   ]
  },
  {
   "cell_type": "code",
   "execution_count": null,
   "metadata": {
    "collapsed": true
   },
   "outputs": [],
   "source": [
    "myfft=(np.fft.fft(aaa))\n",
    "timear=np.arange(800)\n",
    "image=np.abs(np.fft.ifft(intfft*myfft))"
   ]
  },
  {
   "cell_type": "code",
   "execution_count": 39,
   "metadata": {
    "collapsed": true
   },
   "outputs": [],
   "source": [
    "intfft=(np.fft.fft(r_c))"
   ]
  },
  {
   "cell_type": "code",
   "execution_count": 40,
   "metadata": {},
   "outputs": [
    {
     "data": {
      "text/plain": [
       "[<matplotlib.lines.Line2D at 0x11c0a1be0>]"
      ]
     },
     "execution_count": 40,
     "metadata": {},
     "output_type": "execute_result"
    },
    {
     "data": {
      "image/png": "[encoded data removed]",
      "text/plain": [
       "<Figure size 432x288 with 1 Axes>"
      ]
     },
     "metadata": {},
     "output_type": "display_data"
    }
   ],
   "source": [
    "plt.plot(np.abs(np.fft.ifft(intfft*myfft)))"
   ]
  },
  {
   "cell_type": "code",
   "execution_count": 41,
   "metadata": {},
   "outputs": [
    {
     "data": {
      "text/latex": [
       "$500 \\; \\mathrm{}$"
      ],
      "text/plain": [
       "<Quantity 500.>"
      ]
     },
     "execution_count": 41,
     "metadata": {},
     "output_type": "execute_result"
    }
   ],
   "source": [
    "u=b/lam\n",
    "u"
   ]
  },
  {
   "cell_type": "code",
   "execution_count": 42,
   "metadata": {},
   "outputs": [
    {
     "name": "stderr",
     "output_type": "stream",
     "text": [
      "/Users/germanchaparro/miniconda2/envs/py36/lib/python3.5/site-packages/numpy/core/numeric.py:501: ComplexWarning: Casting complex values to real discards the imaginary part\n",
      "  return array(a, dtype, copy=False, order=order)\n"
     ]
    },
    {
     "data": {
      "text/plain": [
       "[<matplotlib.lines.Line2D at 0x11c13d588>]"
      ]
     },
     "execution_count": 42,
     "metadata": {},
     "output_type": "execute_result"
    },
    {
     "data": {
      "image/png": "[encoded data removed]",
      "text/plain": [
       "<Figure size 432x288 with 1 Axes>"
      ]
     },
     "metadata": {},
     "output_type": "display_data"
    }
   ],
   "source": [
    "plt.plot(np.fft.ifft(np.fft.fft(aaa)))"
   ]
  },
  {
   "cell_type": "code",
   "execution_count": null,
   "metadata": {
    "collapsed": true
   },
   "outputs": [],
   "source": []
  }
 ],
 "metadata": {
  "kernelspec": {
   "display_name": "Python 3",
   "language": "python",
   "name": "python3"
  },
  "language_info": {
   "codemirror_mode": {
    "name": "ipython",
    "version": 3
   },
   "file_extension": ".py",
   "mimetype": "text/x-python",
   "name": "python",
   "nbconvert_exporter": "python",
   "pygments_lexer": "ipython3",
   "version": "3.5.6"
  }
 },
 "nbformat": 4,
 "nbformat_minor": 2
}
