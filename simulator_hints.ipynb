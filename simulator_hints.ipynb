{
 "cells": [
  {
   "cell_type": "code",
   "execution_count": 1,
   "metadata": {
    "collapsed": true
   },
   "outputs": [],
   "source": [
    "import numpy as np"
   ]
  },
  {
   "cell_type": "markdown",
   "metadata": {},
   "source": [
    "##### Observation parameters\n",
    "\n",
    "Let's define an arbitrary set of observation parameters to mimic a real observation\n",
    "\n",
    "* Latitude of the baseline: $L_a=34.0790^\\circ$\n",
    "* Declination of the observation: $\\delta=34^\\circ$\n",
    "* Duration of the observation: $\\Delta \\text{HA}=[-4^\\text{h},4^\\text{h}]$\n",
    "* Time steps: 600\n",
    "* Frequency: 1420 MHz"
   ]
  },
  {
   "cell_type": "code",
   "execution_count": 6,
   "metadata": {
    "collapsed": true
   },
   "outputs": [],
   "source": [
    "# Observation parameters\n",
    "\n",
    "time_steps = 600                               # Time Steps\n",
    "h = np.linspace(-4,4,time_steps)*np.pi/12  # Hour angle window"
   ]
  },
  {
   "cell_type": "code",
   "execution_count": 5,
   "metadata": {},
   "outputs": [
    {
     "name": "stdout",
     "output_type": "stream",
     "text": [
      "Baseline= 1.1226591727315784 km\n",
      "Azimuth= -124.00855205113513\n",
      "Elevation= 0.0\n"
     ]
    }
   ],
   "source": [
    "ant1 = np.array([0,0,0])\n",
    "ant2 = np.array([-9.306329211933045826e+02, -6.279219570213869019e+02,0])\n",
    "\n",
    "b_ENU = ant2-ant1\n",
    "D = np.sqrt(np.sum((b_ENU)**2))\n",
    "print(\"Baseline=\",str(D/1000)+\" km\")\n",
    "L = (np.pi/180)*(34.0790)\n",
    "\n",
    "A=np.arctan2(b_ENU[0],b_ENU[1])\n",
    "print(\"Azimuth=\",A*(180/np.pi))\n",
    "E=np.arcsin(b_ENU[2]/D)\n",
    "print(\"Elevation=\",E*(180/np.pi))"
   ]
  },
  {
   "cell_type": "code",
   "execution_count": null,
   "metadata": {
    "collapsed": true
   },
   "outputs": [],
   "source": []
  }
 ],
 "metadata": {
  "kernelspec": {
   "display_name": "Python 3",
   "language": "python",
   "name": "python3"
  },
  "language_info": {
   "codemirror_mode": {
    "name": "ipython",
    "version": 3
   },
   "file_extension": ".py",
   "mimetype": "text/x-python",
   "name": "python",
   "nbconvert_exporter": "python",
   "pygments_lexer": "ipython3",
   "version": "3.5.6"
  }
 },
 "nbformat": 4,
 "nbformat_minor": 2
}
